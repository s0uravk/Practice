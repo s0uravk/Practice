{
  "nbformat": 4,
  "nbformat_minor": 0,
  "metadata": {
    "colab": {
      "provenance": [],
      "toc_visible": true,
      "authorship_tag": "ABX9TyNPQ6MIBOKSIhChZkD3nQMY",
      "include_colab_link": true
    },
    "kernelspec": {
      "name": "python3",
      "display_name": "Python 3"
    },
    "language_info": {
      "name": "python"
    }
  },
  "cells": [
    {
      "cell_type": "markdown",
      "metadata": {
        "id": "view-in-github",
        "colab_type": "text"
      },
      "source": [
        "<a href=\"https://colab.research.google.com/github/s0uravk/Practice/blob/main/WorldBankAPI.ipynb\" target=\"_parent\"><img src=\"https://colab.research.google.com/assets/colab-badge.svg\" alt=\"Open In Colab\"/></a>"
      ]
    },
    {
      "cell_type": "code",
      "execution_count": null,
      "metadata": {
        "id": "Me2SiagOcydo"
      },
      "outputs": [],
      "source": [
        "import requests\n",
        "import json\n",
        "from pprint import pprint"
      ]
    },
    {
      "cell_type": "code",
      "source": [
        "url = \"http://api.worldbank.org/v2/\"\n",
        "endpoint = \"lendingtype\""
      ],
      "metadata": {
        "id": "Mn8OJVrWfCQ9"
      },
      "execution_count": null,
      "outputs": []
    },
    {
      "cell_type": "code",
      "source": [
        " # Get the list of lending types the world bank has\n",
        "lTypes = []\n",
        "lending_url = (f\"https://api.worldbank.org/v2/{endpoint}?format=json\")\n",
        "response = requests.get(lending_url).json()\n",
        "for i in range(len(response[1])):\n",
        "  lTypes.append(response[1][i][\"id\"])\n",
        "print(lTypes)\n"
      ],
      "metadata": {
        "colab": {
          "base_uri": "https://localhost:8080/"
        },
        "id": "-YBtvIQRfDG8",
        "outputId": "8c77f347-bbe5-4346-fd4b-d6e05a6066e1"
      },
      "execution_count": null,
      "outputs": [
        {
          "output_type": "stream",
          "name": "stdout",
          "text": [
            "['IBD', 'IDB', 'IDX', 'LNX']\n"
          ]
        }
      ]
    },
    {
      "cell_type": "code",
      "source": [
        "# Next, determine how many countries fall into each lending type.\n",
        "endpoint = \"country\"\n",
        "count_ls = []\n",
        "for j in lTypes:\n",
        "  country_url = (f\"https://api.worldbank.org/v2/{endpoint}?lendingtype={j}&format=json\")\n",
        "  resp = requests.get(country_url).json()\n",
        "  count_ls.append(resp[0][\"total\"])\n",
        "\n",
        "pprint(count_ls)\n",
        "# Hint: Look at the first element of the response array."
      ],
      "metadata": {
        "colab": {
          "base_uri": "https://localhost:8080/"
        },
        "id": "FTjyUW93fLDz",
        "outputId": "0c68c66c-58d4-4624-987f-a8a60f8eaafc"
      },
      "execution_count": null,
      "outputs": [
        {
          "output_type": "stream",
          "name": "stdout",
          "text": [
            "[138, 30, 120, 74]\n"
          ]
        }
      ]
    },
    {
      "cell_type": "code",
      "source": [
        "# Print the number of countries of each lending type\n",
        "for name in range(len(lTypes)):\n",
        "  print(f\"The  number of countries with Lending type {lTypes[name]} is {count_ls[name]}.\")"
      ],
      "metadata": {
        "colab": {
          "base_uri": "https://localhost:8080/"
        },
        "id": "MscDj9RHfOMS",
        "outputId": "7ffd6a51-6902-458d-d9b2-bf1ffbc6a2e6"
      },
      "execution_count": null,
      "outputs": [
        {
          "output_type": "stream",
          "name": "stdout",
          "text": [
            "The  number of countries with Lending type IBD is 138.\n",
            "The  number of countries with Lending type IDB is 30.\n",
            "The  number of countries with Lending type IDX is 120.\n",
            "The  number of countries with Lending type LNX is 74.\n"
          ]
        }
      ]
    },
    {
      "cell_type": "code",
      "source": [],
      "metadata": {
        "id": "OyM_KebsfQAJ"
      },
      "execution_count": null,
      "outputs": []
    },
    {
      "cell_type": "code",
      "source": [],
      "metadata": {
        "id": "E5bn2iG1uVSM"
      },
      "execution_count": null,
      "outputs": []
    }
  ]
}