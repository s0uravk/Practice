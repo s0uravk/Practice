{
  "nbformat": 4,
  "nbformat_minor": 0,
  "metadata": {
    "colab": {
      "provenance": [],
      "authorship_tag": "ABX9TyPC2VRXzU1aEN5E4X0PL9Qc",
      "include_colab_link": true
    },
    "kernelspec": {
      "name": "python3",
      "display_name": "Python 3"
    },
    "language_info": {
      "name": "python"
    }
  },
  "cells": [
    {
      "cell_type": "markdown",
      "metadata": {
        "id": "view-in-github",
        "colab_type": "text"
      },
      "source": [
        "<a href=\"https://colab.research.google.com/github/s0uravk/Practice/blob/main/Geo_api1.ipynb\" target=\"_parent\"><img src=\"https://colab.research.google.com/assets/colab-badge.svg\" alt=\"Open In Colab\"/></a>"
      ]
    },
    {
      "cell_type": "code",
      "execution_count": 7,
      "metadata": {
        "id": "Me2SiagOcydo"
      },
      "outputs": [],
      "source": [
        " # Dependencies\n",
        "import requests\n",
        "import json\n",
        "\n",
        "geoapify_key = \"2ed98981ff9b4fbb80a82925225c922d\"\n",
        "from pprint import pprint"
      ]
    },
    {
      "cell_type": "code",
      "source": [
        "city = \"Brisbane, Australia\"\n",
        "params = {\n",
        "    \"text\" : city,\n",
        "    \"format\" : \"json\",\n",
        "    \"apiKey\" : geoapify_key\n",
        "\n",
        "}"
      ],
      "metadata": {
        "id": "Mn8OJVrWfCQ9"
      },
      "execution_count": 8,
      "outputs": []
    },
    {
      "cell_type": "code",
      "source": [
        "base_url = \"https://api.geoapify.com/v1/geocode/search?\"\n",
        "\n",
        "response = requests.get(base_url, params = params).json()\n",
        "\n",
        "pprint(response[\"results\"])"
      ],
      "metadata": {
        "colab": {
          "base_uri": "https://localhost:8080/"
        },
        "id": "-YBtvIQRfDG8",
        "outputId": "c0ffb655-1989-48ec-d70d-cf586bd09004"
      },
      "execution_count": 16,
      "outputs": [
        {
          "output_type": "stream",
          "name": "stdout",
          "text": [
            "[{'address_line1': 'Brisbane City',\n",
            "  'address_line2': 'QLD, Australia',\n",
            "  'bbox': {'lat1': -27.660219,\n",
            "           'lat2': -27.022014,\n",
            "           'lon1': 152.679693,\n",
            "           'lon2': 153.468275},\n",
            "  'category': 'administrative',\n",
            "  'city': 'Brisbane City',\n",
            "  'country': 'Australia',\n",
            "  'country_code': 'au',\n",
            "  'datasource': {'attribution': '© OpenStreetMap contributors',\n",
            "                 'license': 'Open Database License',\n",
            "                 'sourcename': 'openstreetmap',\n",
            "                 'url': 'https://www.openstreetmap.org/copyright'},\n",
            "  'formatted': 'Brisbane City, QLD, Australia',\n",
            "  'lat': -27.4689682,\n",
            "  'lon': 153.0234991,\n",
            "  'place_id': '51893f2f81c0206340592eddc94c0e783bc0f00101f9016030b20000000000c00208',\n",
            "  'plus_code': '5R4MG2JF+C9',\n",
            "  'rank': {'confidence': 1,\n",
            "           'confidence_city_level': 1,\n",
            "           'importance': 0.8694082277592821,\n",
            "           'match_type': 'full_match',\n",
            "           'popularity': 6.876406158741578},\n",
            "  'result_type': 'city',\n",
            "  'state': 'Queensland',\n",
            "  'state_code': 'QLD',\n",
            "  'timezone': {'abbreviation_DST': 'AEST',\n",
            "               'abbreviation_STD': 'AEST',\n",
            "               'name': 'Australia/Brisbane',\n",
            "               'offset_DST': '+10:00',\n",
            "               'offset_DST_seconds': 36000,\n",
            "               'offset_STD': '+10:00',\n",
            "               'offset_STD_seconds': 36000}}]\n"
          ]
        }
      ]
    },
    {
      "cell_type": "code",
      "source": [
        " # Extract lat/lon\n",
        "lat = response[\"results\"][0][\"lat\"]\n",
        "lon = response[\"results\"][0][\"lon\"]\n",
        "\n",
        "# Print results\n",
        "print(f\"Latitude is {lat} and Longitude is {lon} for {city}.\")"
      ],
      "metadata": {
        "colab": {
          "base_uri": "https://localhost:8080/"
        },
        "id": "FTjyUW93fLDz",
        "outputId": "b310981e-a8ee-48fe-d6d8-356d2c3ded09"
      },
      "execution_count": 15,
      "outputs": [
        {
          "output_type": "stream",
          "name": "stdout",
          "text": [
            "Latitude is -27.4689682 and Longitude is 153.0234991 for Brisbane, Australia.\n"
          ]
        }
      ]
    },
    {
      "cell_type": "code",
      "source": [
        "city = \"The Sydney Opera House\"\n",
        "params = {\n",
        "    \"text\" : city,\n",
        "    \"format\" : \"json\",\n",
        "    \"apiKey\" : geoapify_key\n",
        "\n",
        "}\n",
        "base_url = \"https://api.geoapify.com/v1/geocode/search?\"\n",
        "\n",
        "response = requests.get(base_url, params = params).json()\n",
        "\n",
        "pprint(response[\"results\"])"
      ],
      "metadata": {
        "colab": {
          "base_uri": "https://localhost:8080/"
        },
        "id": "MscDj9RHfOMS",
        "outputId": "aeb15105-8e29-45ac-d15c-463579b5ea14"
      },
      "execution_count": 17,
      "outputs": [
        {
          "output_type": "stream",
          "name": "stdout",
          "text": [
            "[{'address_line1': 'Sydney Opera House',\n",
            "  'address_line2': '2 Macquarie Street, Sydney NSW 2000, Australia',\n",
            "  'bbox': {'lat1': -33.8579291,\n",
            "           'lat2': -33.856305,\n",
            "           'lon1': 151.214428,\n",
            "           'lon2': 151.2158894},\n",
            "  'category': 'entertainment.culture.arts_centre',\n",
            "  'city': 'Sydney',\n",
            "  'country': 'Australia',\n",
            "  'country_code': 'au',\n",
            "  'datasource': {'attribution': '© OpenStreetMap contributors',\n",
            "                 'license': 'Open Database License',\n",
            "                 'sourcename': 'openstreetmap',\n",
            "                 'url': 'https://www.openstreetmap.org/copyright'},\n",
            "  'district': 'Quay Quarter',\n",
            "  'formatted': 'Sydney Opera House, 2 Macquarie Street, Sydney NSW 2000, '\n",
            "               'Australia',\n",
            "  'housenumber': '2',\n",
            "  'lat': -33.85719805,\n",
            "  'lon': 151.21512338473752,\n",
            "  'municipality': 'Council of the City of Sydney',\n",
            "  'name': 'Sydney Opera House',\n",
            "  'place_id': '51aec16f4ae2e6624059f5786baab8ed40c0f00101f901c86f920000000000c002019203125379646e6579204f7065726120486f757365',\n",
            "  'plus_code': '4RRH46V8+42',\n",
            "  'plus_code_short': 'V8+42 Sydney, New South Wales, Australia',\n",
            "  'postcode': '2000',\n",
            "  'rank': {'confidence': 0.75,\n",
            "           'importance': 0.9439868225769328,\n",
            "           'match_type': 'full_match',\n",
            "           'popularity': 6.979585085597298},\n",
            "  'result_type': 'amenity',\n",
            "  'state': 'New South Wales',\n",
            "  'state_code': 'NSW',\n",
            "  'street': 'Macquarie Street',\n",
            "  'suburb': 'Sydney',\n",
            "  'timezone': {'abbreviation_DST': 'AEDT',\n",
            "               'abbreviation_STD': 'AEST',\n",
            "               'name': 'Australia/Sydney',\n",
            "               'offset_DST': '+11:00',\n",
            "               'offset_DST_seconds': 39600,\n",
            "               'offset_STD': '+10:00',\n",
            "               'offset_STD_seconds': 36000}}]\n"
          ]
        }
      ]
    },
    {
      "cell_type": "code",
      "source": [
        " # Extract lat/lon\n",
        "lat = response[\"results\"][0][\"lat\"]\n",
        "lon = response[\"results\"][0][\"lon\"]\n",
        "\n",
        "# Print results\n",
        "print(f\"Latitude is {lat} and Longitude is {lon} for {city}.\")"
      ],
      "metadata": {
        "id": "OyM_KebsfQAJ",
        "colab": {
          "base_uri": "https://localhost:8080/"
        },
        "outputId": "c8311128-9169-40ca-be7c-9a7347bf19cd"
      },
      "execution_count": 18,
      "outputs": [
        {
          "output_type": "stream",
          "name": "stdout",
          "text": [
            "Latitude is -33.85719805 and Longitude is 151.21512338473752 for The Sydney Opera House.\n"
          ]
        }
      ]
    },
    {
      "cell_type": "code",
      "source": [
        "latitude = -27.4689682\n",
        "longitude = 153.0234991\n",
        "radius = 5000\n",
        "filter = f\"circle:{longitude},{latitude},{radius}\"\n",
        "bias = f'proximity:{longitude},{latitude}'\n",
        "params = {\n",
        "    \"categories\" : \"healthcare.pharmacy\",\n",
        "    \"limit\": 20,\n",
        "    \"apiKey\" : geoapify_key,\n",
        "    \"filter\" : filter,\n",
        "    \"bias\" : bias\n",
        "    }\n",
        "\n",
        "base_url = \"https://api.geoapify.com/v2/places?\"\n",
        "\n",
        "resp = requests.get(base_url, params = params).json()"
      ],
      "metadata": {
        "id": "jm8P5krVvJRs"
      },
      "execution_count": 35,
      "outputs": []
    },
    {
      "cell_type": "code",
      "source": [
        "pprint(resp[\"features\"][0][\"properties\"][\"address_line1\"])\n",
        "pprint(resp[\"features\"][0][\"properties\"][\"address_line2\"])"
      ],
      "metadata": {
        "colab": {
          "base_uri": "https://localhost:8080/"
        },
        "id": "ziT7X5Ltwz39",
        "outputId": "20dae941-bfa7-4d6e-ea46-6165af29e81b"
      },
      "execution_count": 36,
      "outputs": [
        {
          "output_type": "stream",
          "name": "stdout",
          "text": [
            "'Wizard Pharmacy'\n",
            "'Queen Street Mall, Brisbane City QLD 4000, Australia'\n"
          ]
        }
      ]
    },
    {
      "cell_type": "code",
      "source": [
        "latitude = -33.85719805\n",
        "longitude = 151.21512338473752\n",
        "radius = 5000\n",
        "filter = f\"circle:{longitude},{latitude},{radius}\"\n",
        "bias = f'proximity:{longitude},{latitude}'\n",
        "params = {\n",
        "    \"categories\" : \"healthcare.pharmacy\",\n",
        "    \"limit\": 20,\n",
        "    \"apiKey\" : geoapify_key,\n",
        "    \"filter\" : filter,\n",
        "    \"bias\" : bias\n",
        "    }\n",
        "\n",
        "base_url = \"https://api.geoapify.com/v2/places?\"\n",
        "resp = requests.get(base_url, params = params).json()"
      ],
      "metadata": {
        "id": "JFAPQ4sWyx3e"
      },
      "execution_count": 37,
      "outputs": []
    },
    {
      "cell_type": "code",
      "source": [
        "pprint(resp[\"features\"][0][\"properties\"][\"address_line1\"])\n",
        "pprint(resp[\"features\"][0][\"properties\"][\"address_line2\"])"
      ],
      "metadata": {
        "colab": {
          "base_uri": "https://localhost:8080/"
        },
        "id": "YLoq7-Vl66Mv",
        "outputId": "ec7d345f-7e3b-42dd-c72c-1ee5f3851d13"
      },
      "execution_count": 38,
      "outputs": [
        {
          "output_type": "stream",
          "name": "stdout",
          "text": [
            "'Quay Pharmacy'\n",
            "'Cahill Expressway, Sydney NSW 2000, Australia'\n"
          ]
        }
      ]
    },
    {
      "cell_type": "code",
      "source": [
        "city = \"135 Soho Road, Birmingham, B21 9ST, United Kingdom\"\n",
        "params = {\n",
        "    \"text\" : city,\n",
        "    \"format\" : \"json\",\n",
        "    \"apiKey\" : geoapify_key\n",
        "\n",
        "}\n",
        "base_url = \"https://api.geoapify.com/v1/geocode/search?\"\n",
        "\n",
        "response = requests.get(base_url, params = params).json()\n",
        "\n",
        "lat = response[\"results\"][0]['lat']\n",
        "lon = response[\"results\"][0]['lon']"
      ],
      "metadata": {
        "id": "eyDRIyWj663W"
      },
      "execution_count": 48,
      "outputs": []
    },
    {
      "cell_type": "code",
      "source": [
        "from google.colab import drive\n",
        "drive.mount('/content/drive')"
      ],
      "metadata": {
        "id": "1EFJNSiuWCCy"
      },
      "execution_count": null,
      "outputs": []
    },
    {
      "cell_type": "code",
      "source": [
        "radius = 5000\n",
        "filter = f\"circle:{lon},{lat},{radius}\"\n",
        "bias = f'proximity:{lon},{lat}'\n",
        "cetegories = \"catering.restaurant\"\n",
        "params = {\n",
        "    \"categories\" : cetegories,\n",
        "    \"limit\": 20,\n",
        "    \"apiKey\" : geoapify_key,\n",
        "    \"filter\" : filter,\n",
        "    \"bias\" : bias\n",
        "    }\n",
        "\n",
        "base_url = \"https://api.geoapify.com/v2/places?\"\n",
        "resp = requests.get(base_url, params = params).json()"
      ],
      "metadata": {
        "id": "mAqfZFpaAzJa"
      },
      "execution_count": 58,
      "outputs": []
    },
    {
      "cell_type": "code",
      "source": [
        "pprint(resp[\"features\"][0][\"properties\"][\"address_line1\"])\n",
        "pprint(resp[\"features\"][0][\"properties\"][\"address_line2\"])"
      ],
      "metadata": {
        "colab": {
          "base_uri": "https://localhost:8080/"
        },
        "id": "UApg2xw_Bd3F",
        "outputId": "00a9d594-5b85-4abf-ec8d-735a662cd356"
      },
      "execution_count": 59,
      "outputs": [
        {
          "output_type": "stream",
          "name": "stdout",
          "text": [
            "'The New Soho Tavern'\n",
            "'Factory Road, Birmingham, B18 5JU, United Kingdom'\n"
          ]
        }
      ]
    },
    {
      "cell_type": "code",
      "source": [
        "params[\"conditions\"] = \"internet_access\"\n",
        "\n",
        "respo = requests.get(base_url, params = params).json()"
      ],
      "metadata": {
        "id": "iRyG_q5OBepU"
      },
      "execution_count": 60,
      "outputs": []
    },
    {
      "cell_type": "code",
      "source": [
        "pprint(respo)"
      ],
      "metadata": {
        "colab": {
          "base_uri": "https://localhost:8080/"
        },
        "id": "PtqJ2hPHDszd",
        "outputId": "b710766c-ffb6-40ab-fe68-34cfb53fa1ea"
      },
      "execution_count": 82,
      "outputs": [
        {
          "output_type": "stream",
          "name": "stdout",
          "text": [
            "{'features': [{'geometry': {'coordinates': [-1.9013125, 52.47945449908876],\n",
            "                            'type': 'Point'},\n",
            "               'properties': {'address_line1': 'Wildwood',\n",
            "                              'address_line2': '66 New Street, Birmingham, B2 '\n",
            "                                               '4DU, United Kingdom',\n",
            "                              'categories': ['catering',\n",
            "                                             'catering.restaurant',\n",
            "                                             'internet_access',\n",
            "                                             'wheelchair',\n",
            "                                             'wheelchair.yes'],\n",
            "                              'city': 'Birmingham',\n",
            "                              'country': 'United Kingdom',\n",
            "                              'country_code': 'gb',\n",
            "                              'county': 'West Midlands Combined Authority',\n",
            "                              'datasource': {'attribution': '© OpenStreetMap '\n",
            "                                                            'contributors',\n",
            "                                             'license': 'Open Database Licence',\n",
            "                                             'raw': {'addr:city': 'Birmingham',\n",
            "                                                     'addr:country': 'GB',\n",
            "                                                     'addr:housenumber': 66,\n",
            "                                                     'addr:postcode': 'B2 4DU',\n",
            "                                                     'addr:street': 'New '\n",
            "                                                                    'Street',\n",
            "                                                     'addr:suburb': 'Ladywood',\n",
            "                                                     'amenity': 'restaurant',\n",
            "                                                     'brand': 'Wildwood',\n",
            "                                                     'brand:wikidata': 'Q85300869',\n",
            "                                                     'cuisine': 'grill;pasta;pizza',\n",
            "                                                     'email': 'birmingham@wildwoodrestaurants.co.uk',\n",
            "                                                     'fhrs:id': 962680,\n",
            "                                                     'internet_access': 'wlan',\n",
            "                                                     'internet_access:fee': 'yes',\n",
            "                                                     'name': 'Wildwood',\n",
            "                                                     'opening_hours': 'Mo-Sa '\n",
            "                                                                      '12:00-23:00; '\n",
            "                                                                      'Su '\n",
            "                                                                      '12:00-22:30',\n",
            "                                                     'osm_id': 1272977539,\n",
            "                                                     'osm_type': 'n',\n",
            "                                                     'outdoor_seating': 'yes',\n",
            "                                                     'phone': '+44 121 5163800',\n",
            "                                                     'website': 'https://wildwoodrestaurants.co.uk/',\n",
            "                                                     'wheelchair': 'yes'},\n",
            "                                             'sourcename': 'openstreetmap',\n",
            "                                             'url': 'https://www.openstreetmap.org/copyright'},\n",
            "                              'details': ['details',\n",
            "                                          'details.catering',\n",
            "                                          'details.contact',\n",
            "                                          'details.facilities'],\n",
            "                              'distance': 3272,\n",
            "                              'district': 'Chinese Quarter',\n",
            "                              'formatted': 'Wildwood, 66 New Street, '\n",
            "                                           'Birmingham, B2 4DU, United Kingdom',\n",
            "                              'housenumber': '66',\n",
            "                              'lat': 52.4794545,\n",
            "                              'lon': -1.9013125,\n",
            "                              'name': 'Wildwood',\n",
            "                              'place_id': '51b29defa7c66bfebf59cec0d8c35e3d4a40f00103f9018318e04b0000000092030857696c64776f6f64',\n",
            "                              'postcode': 'B2 4DU',\n",
            "                              'state': 'England',\n",
            "                              'state_code': 'ENG',\n",
            "                              'street': 'New Street',\n",
            "                              'suburb': 'Ladywood',\n",
            "                              'village': 'Attwood Green'},\n",
            "               'type': 'Feature'},\n",
            "              {'geometry': {'coordinates': [-1.9004138, 52.47944449908876],\n",
            "                            'type': 'Point'},\n",
            "               'properties': {'address_line1': 'ASK Italian',\n",
            "                              'address_line2': '56 New Street, Birmingham, B2 '\n",
            "                                               '4EG, United Kingdom',\n",
            "                              'categories': ['catering',\n",
            "                                             'catering.restaurant',\n",
            "                                             'catering.restaurant.italian',\n",
            "                                             'internet_access',\n",
            "                                             'wheelchair',\n",
            "                                             'wheelchair.yes'],\n",
            "                              'city': 'Birmingham',\n",
            "                              'country': 'United Kingdom',\n",
            "                              'country_code': 'gb',\n",
            "                              'county': 'West Midlands Combined Authority',\n",
            "                              'datasource': {'attribution': '© OpenStreetMap '\n",
            "                                                            'contributors',\n",
            "                                             'license': 'Open Database Licence',\n",
            "                                             'raw': {'addr:city': 'Birmingham',\n",
            "                                                     'addr:housenumber': 56,\n",
            "                                                     'addr:postcode': 'B2 4EG',\n",
            "                                                     'addr:street': 'New '\n",
            "                                                                    'Street',\n",
            "                                                     'amenity': 'restaurant',\n",
            "                                                     'brand': 'ASK Italian',\n",
            "                                                     'brand:wikidata': 'Q4807056',\n",
            "                                                     'brand:wikipedia': 'en:ASK '\n",
            "                                                                        'Italian',\n",
            "                                                     'contact:facebook': 'ASKItalian',\n",
            "                                                     'contact:instagram': 'askitalian',\n",
            "                                                     'contact:pinterest': 'askitalian',\n",
            "                                                     'contact:twitter': 'ASKItalian',\n",
            "                                                     'contact:youtube': 'https://www.youtube.com/user/askitalian',\n",
            "                                                     'cuisine': 'italian',\n",
            "                                                     'delivery': 'yes',\n",
            "                                                     'fhrs:id': 604672,\n",
            "                                                     'internet_access': 'wlan',\n",
            "                                                     'internet_access:fee': 'yes',\n",
            "                                                     'name': 'ASK Italian',\n",
            "                                                     'opening_hours': 'Su-Th '\n",
            "                                                                      '11:00-22:00; '\n",
            "                                                                      'Fr-Sa '\n",
            "                                                                      '11:00-23:00',\n",
            "                                                     'osm_id': 2451905564,\n",
            "                                                     'osm_type': 'n',\n",
            "                                                     'outdoor_seating': 'yes',\n",
            "                                                     'phone': '+44 121 7923505',\n",
            "                                                     'reservation': 'yes',\n",
            "                                                     'takeaway': 'yes',\n",
            "                                                     'website': 'https://www.askitalian.co.uk/',\n",
            "                                                     'wheelchair': 'yes'},\n",
            "                                             'sourcename': 'openstreetmap',\n",
            "                                             'url': 'https://www.openstreetmap.org/copyright'},\n",
            "                              'details': ['details',\n",
            "                                          'details.catering',\n",
            "                                          'details.contact',\n",
            "                                          'details.facilities'],\n",
            "                              'distance': 3311,\n",
            "                              'district': 'Chinese Quarter',\n",
            "                              'formatted': 'ASK Italian, 56 New Street, '\n",
            "                                           'Birmingham, B2 4EG, United Kingdom',\n",
            "                              'housenumber': '56',\n",
            "                              'lat': 52.4794445,\n",
            "                              'lon': -1.9004138,\n",
            "                              'name': 'ASK Italian',\n",
            "                              'place_id': '5194dffd4c1868febf59aaeaf56f5e3d4a40f00103f9011c1c25920000000092030b41534b204974616c69616e',\n",
            "                              'postcode': 'B2 4EG',\n",
            "                              'state': 'England',\n",
            "                              'state_code': 'ENG',\n",
            "                              'street': 'New Street',\n",
            "                              'suburb': 'Digbeth',\n",
            "                              'village': 'Attwood Green'},\n",
            "               'type': 'Feature'},\n",
            "              {'geometry': {'coordinates': [-1.9003646836359287,\n",
            "                                            52.47915354051216],\n",
            "                            'type': 'Point'},\n",
            "               'properties': {'address_line1': 'Bella Italia',\n",
            "                              'address_line2': '102 New Street, Birmingham, B2 '\n",
            "                                               '4HS, United Kingdom',\n",
            "                              'categories': ['building',\n",
            "                                             'building.catering',\n",
            "                                             'catering',\n",
            "                                             'catering.restaurant',\n",
            "                                             'catering.restaurant.italian',\n",
            "                                             'internet_access',\n",
            "                                             'internet_access.free',\n",
            "                                             'wheelchair',\n",
            "                                             'wheelchair.yes'],\n",
            "                              'city': 'Birmingham',\n",
            "                              'country': 'United Kingdom',\n",
            "                              'country_code': 'gb',\n",
            "                              'county': 'West Midlands Combined Authority',\n",
            "                              'datasource': {'attribution': '© OpenStreetMap '\n",
            "                                                            'contributors',\n",
            "                                             'license': 'Open Database Licence',\n",
            "                                             'raw': {'addr:city': 'Birmingham',\n",
            "                                                     'addr:housenumber': 102,\n",
            "                                                     'addr:postcode': 'B2 4HS',\n",
            "                                                     'addr:street': 'New '\n",
            "                                                                    'Street',\n",
            "                                                     'amenity': 'restaurant',\n",
            "                                                     'brand': 'Bella Italia',\n",
            "                                                     'brand:wikidata': 'Q4883362',\n",
            "                                                     'brand:wikipedia': 'en:Bella '\n",
            "                                                                        'Italia',\n",
            "                                                     'building': 'yes',\n",
            "                                                     'building:levels': 8,\n",
            "                                                     'cuisine': 'italian',\n",
            "                                                     'email': 'Birmingham@BellaItalia.co.uk',\n",
            "                                                     'height': 45,\n",
            "                                                     'internet_access': 'wlan',\n",
            "                                                     'internet_access:fee': 'no',\n",
            "                                                     'name': 'Bella Italia',\n",
            "                                                     'opening_hours': 'Su-Th '\n",
            "                                                                      '09:00-22:00; '\n",
            "                                                                      'Fr-Sa '\n",
            "                                                                      '09:00-23:00',\n",
            "                                                     'osm_id': 99870996,\n",
            "                                                     'osm_type': 'w',\n",
            "                                                     'outdoor_seating': 'yes',\n",
            "                                                     'phone': '+44 121 6431548',\n",
            "                                                     'website': 'https://www.bellaitalia.co.uk/',\n",
            "                                                     'wheelchair': 'yes'},\n",
            "                                             'sourcename': 'openstreetmap',\n",
            "                                             'url': 'https://www.openstreetmap.org/copyright'},\n",
            "                              'details': ['details',\n",
            "                                          'details.building',\n",
            "                                          'details.catering',\n",
            "                                          'details.contact',\n",
            "                                          'details.facilities'],\n",
            "                              'distance': 3330,\n",
            "                              'district': 'Chinese Quarter',\n",
            "                              'formatted': 'Bella Italia, 102 New Street, '\n",
            "                                           'Birmingham, B2 4HS, United Kingdom',\n",
            "                              'housenumber': '102',\n",
            "                              'lat': 52.4791533,\n",
            "                              'lon': -1.9003646461029762,\n",
            "                              'name': 'Bella Italia',\n",
            "                              'place_id': '5103096bcce467febf59942139e7543d4a40f00102f90114e9f3050000000092030c42656c6c61204974616c6961',\n",
            "                              'postcode': 'B2 4HS',\n",
            "                              'state': 'England',\n",
            "                              'state_code': 'ENG',\n",
            "                              'street': 'New Street',\n",
            "                              'suburb': 'Digbeth',\n",
            "                              'village': 'Attwood Green'},\n",
            "               'type': 'Feature'},\n",
            "              {'geometry': {'coordinates': [-1.8939201, 52.476757699088836],\n",
            "                            'type': 'Point'},\n",
            "               'properties': {'address_line1': 'Wagamama',\n",
            "                              'address_line2': 'Edgbaston Street, Birmingham, '\n",
            "                                               'B5 4QL, United Kingdom',\n",
            "                              'categories': ['catering',\n",
            "                                             'catering.restaurant',\n",
            "                                             'catering.restaurant.asian',\n",
            "                                             'internet_access',\n",
            "                                             'internet_access.free',\n",
            "                                             'wheelchair',\n",
            "                                             'wheelchair.yes'],\n",
            "                              'city': 'Birmingham',\n",
            "                              'country': 'United Kingdom',\n",
            "                              'country_code': 'gb',\n",
            "                              'county': 'West Midlands Combined Authority',\n",
            "                              'datasource': {'attribution': '© OpenStreetMap '\n",
            "                                                            'contributors',\n",
            "                                             'license': 'Open Database Licence',\n",
            "                                             'raw': {'addr:city': 'Birmingham',\n",
            "                                                     'addr:postcode': 'B5 4QL',\n",
            "                                                     'addr:street': 'Edgbaston '\n",
            "                                                                    'Street',\n",
            "                                                     'amenity': 'restaurant',\n",
            "                                                     'brand': 'Wagamama',\n",
            "                                                     'brand:wikidata': 'Q503715',\n",
            "                                                     'brand:wikipedia': 'en:Wagamama',\n",
            "                                                     'contact:facebook': 'wagamama',\n",
            "                                                     'contact:instagram': 'wagamama_uk',\n",
            "                                                     'contact:twitter': 'wagamama_uk',\n",
            "                                                     'contact:website': 'https://www.wagamama.com/restaurants/birmingham/birmingham-bullring',\n",
            "                                                     'cuisine': 'asian',\n",
            "                                                     'delivery': 'yes',\n",
            "                                                     'entrance': 'yes',\n",
            "                                                     'internet_access': 'wlan',\n",
            "                                                     'internet_access:fee': 'no',\n",
            "                                                     'level': 0,\n",
            "                                                     'name': 'Wagamama',\n",
            "                                                     'opening_hours': 'Mo-Th '\n",
            "                                                                      '11:30-22:00; '\n",
            "                                                                      'Fr '\n",
            "                                                                      '11:30-23:00; '\n",
            "                                                                      'Sa '\n",
            "                                                                      '11:00-23:00; '\n",
            "                                                                      'Su '\n",
            "                                                                      '11:30-22:00',\n",
            "                                                     'operator:wikidata': 'Q503715',\n",
            "                                                     'osm_id': 319539796,\n",
            "                                                     'osm_type': 'n',\n",
            "                                                     'phone': '+44 121 6333033',\n",
            "                                                     'wheelchair': 'yes'},\n",
            "                                             'sourcename': 'openstreetmap',\n",
            "                                             'url': 'https://www.openstreetmap.org/copyright'},\n",
            "                              'details': ['details',\n",
            "                                          'details.catering',\n",
            "                                          'details.contact',\n",
            "                                          'details.facilities'],\n",
            "                              'distance': 3824,\n",
            "                              'formatted': 'Wagamama, Edgbaston Street, '\n",
            "                                           'Birmingham, B5 4QL, United Kingdom',\n",
            "                              'lat': 52.4767577,\n",
            "                              'lon': -1.8939201,\n",
            "                              'name': 'Wagamama',\n",
            "                              'place_id': '51f5caab297f4dfebf59f4d97265063d4a40f00103f90154ca0b1300000000920308576167616d616d61',\n",
            "                              'postcode': 'B5 4QL',\n",
            "                              'retail': 'Bullring',\n",
            "                              'state': 'England',\n",
            "                              'state_code': 'ENG',\n",
            "                              'street': 'Edgbaston Street',\n",
            "                              'suburb': 'Digbeth',\n",
            "                              'village': 'Attwood Green'},\n",
            "               'type': 'Feature'}],\n",
            " 'type': 'FeatureCollection'}\n"
          ]
        }
      ]
    },
    {
      "cell_type": "code",
      "source": [
        "\n",
        "counter = 1\n",
        "for places in respo[\"features\"]:\n",
        "\n",
        "  print(f\"Restaurant {counter}\")\n",
        "  print(places[\"properties\"][\"address_line1\"])\n",
        "  print(places[\"properties\"][\"address_line2\"])\n",
        "  print(f'Distance : {places[\"properties\"][\"distance\"]/1000} KMs')\n",
        "  print('*'*20)\n",
        "  counter += 1"
      ],
      "metadata": {
        "colab": {
          "base_uri": "https://localhost:8080/"
        },
        "id": "NiMH00YJFRYp",
        "outputId": "f7a859f0-7e1b-44f7-df0e-73b9ddb46bda"
      },
      "execution_count": 90,
      "outputs": [
        {
          "output_type": "stream",
          "name": "stdout",
          "text": [
            "Restaurant 1\n",
            "Wildwood\n",
            "66 New Street, Birmingham, B2 4DU, United Kingdom\n",
            "Distance : 3.272 KMs\n",
            "********************\n",
            "Restaurant 2\n",
            "ASK Italian\n",
            "56 New Street, Birmingham, B2 4EG, United Kingdom\n",
            "Distance : 3.311 KMs\n",
            "********************\n",
            "Restaurant 3\n",
            "Bella Italia\n",
            "102 New Street, Birmingham, B2 4HS, United Kingdom\n",
            "Distance : 3.33 KMs\n",
            "********************\n",
            "Restaurant 4\n",
            "Wagamama\n",
            "Edgbaston Street, Birmingham, B5 4QL, United Kingdom\n",
            "Distance : 3.824 KMs\n",
            "********************\n"
          ]
        }
      ]
    },
    {
      "cell_type": "code",
      "source": [],
      "metadata": {
        "id": "0JbAA1gwLTT_"
      },
      "execution_count": null,
      "outputs": []
    }
  ]
}